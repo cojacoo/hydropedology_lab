{
 "cells": [
  {
   "cell_type": "code",
   "execution_count": 4,
   "id": "liable-administrator",
   "metadata": {},
   "outputs": [
    {
     "name": "stdout",
     "output_type": "stream",
     "text": [
      "Populating the interactive namespace from numpy and matplotlib\n"
     ]
    }
   ],
   "source": [
    "%pylab inline\n",
    "import pandas as pd\n",
    "import seaborn as sns\n",
    "import plotly.express as px\n",
    "\n",
    "import plotly.io as pio\n",
    "pio.renderers.default='iframe'\n",
    "from plotly.subplots import make_subplots\n",
    "import plotly.graph_objects as go\n",
    "\n",
    "sns.set_style('whitegrid', {'grid.linestyle': u'--'})\n",
    "matplotlib.rc('pdf', fonttype=42)"
   ]
  },
  {
   "cell_type": "code",
   "execution_count": 5,
   "id": "certified-reaction",
   "metadata": {},
   "outputs": [
    {
     "data": {
      "text/plain": [
       "Timestamp('2022-04-27 13:57:47.427394')"
      ]
     },
     "execution_count": 5,
     "metadata": {},
     "output_type": "execute_result"
    }
   ],
   "source": [
    "pd.Timestamp.now()"
   ]
  },
  {
   "cell_type": "code",
   "execution_count": 6,
   "id": "gothic-croatia",
   "metadata": {},
   "outputs": [],
   "source": [
    "import dwd\n",
    "# DWD Stations\n",
    "dwd_stats = dwd.dwd_stations()\n",
    "dwd_stats['StatID'] = dwd_stats.index\n",
    "dwd_stats['Active'] = np.log(((pd.Timestamp.now()-dwd_stats['bis_datum']).values).astype(float)/86400000000000.)"
   ]
  },
  {
   "cell_type": "code",
   "execution_count": 7,
   "id": "geographic-flood",
   "metadata": {},
   "outputs": [
    {
     "data": {
      "text/html": [
       "<iframe\n",
       "    scrolling=\"no\"\n",
       "    width=\"100%\"\n",
       "    height=\"545px\"\n",
       "    src=\"iframe_figures/figure_7.html\"\n",
       "    frameborder=\"0\"\n",
       "    allowfullscreen\n",
       "></iframe>\n"
      ]
     },
     "metadata": {},
     "output_type": "display_data"
    }
   ],
   "source": [
    "px.set_mapbox_access_token('pk.eyJ1IjoiY29qYWNrIiwiYSI6IkRTNjV1T2MifQ.EWzL4Qk-VvQoaeJBfE6VSA')\n",
    "\n",
    "fig = px.scatter_mapbox(dwd_stats, lat='geoBreite', lon='geoLaenge',  color='Active', hover_name='Stationsname', hover_data=['StatID','von_datum', 'bis_datum'],\n",
    "                  color_continuous_scale=px.colors.sequential.YlOrRd_r, zoom=5)\n",
    "fig.show()"
   ]
  },
  {
   "cell_type": "code",
   "execution_count": 8,
   "id": "processed-wilson",
   "metadata": {},
   "outputs": [
    {
     "data": {
      "text/html": [
       "<div>\n",
       "<style scoped>\n",
       "    .dataframe tbody tr th:only-of-type {\n",
       "        vertical-align: middle;\n",
       "    }\n",
       "\n",
       "    .dataframe tbody tr th {\n",
       "        vertical-align: top;\n",
       "    }\n",
       "\n",
       "    .dataframe thead th {\n",
       "        text-align: right;\n",
       "    }\n",
       "</style>\n",
       "<table border=\"1\" class=\"dataframe\">\n",
       "  <thead>\n",
       "    <tr style=\"text-align: right;\">\n",
       "      <th></th>\n",
       "      <th>von_datum</th>\n",
       "      <th>bis_datum</th>\n",
       "      <th>Stationshoehe</th>\n",
       "      <th>geoBreite</th>\n",
       "      <th>geoLaenge</th>\n",
       "      <th>Stationsname</th>\n",
       "      <th>Bundesland</th>\n",
       "      <th>StatID</th>\n",
       "      <th>Active</th>\n",
       "    </tr>\n",
       "    <tr>\n",
       "      <th>station_id</th>\n",
       "      <th></th>\n",
       "      <th></th>\n",
       "      <th></th>\n",
       "      <th></th>\n",
       "      <th></th>\n",
       "      <th></th>\n",
       "      <th></th>\n",
       "      <th></th>\n",
       "      <th></th>\n",
       "    </tr>\n",
       "  </thead>\n",
       "  <tbody>\n",
       "    <tr>\n",
       "      <th>1</th>\n",
       "      <td>1937-01-01</td>\n",
       "      <td>1986-06-30</td>\n",
       "      <td>478</td>\n",
       "      <td>47.8413</td>\n",
       "      <td>8.8493</td>\n",
       "      <td>Aach</td>\n",
       "      <td>Baden-Württemberg</td>\n",
       "      <td>1</td>\n",
       "      <td>9.479266</td>\n",
       "    </tr>\n",
       "    <tr>\n",
       "      <th>3</th>\n",
       "      <td>1891-01-01</td>\n",
       "      <td>2011-03-31</td>\n",
       "      <td>202</td>\n",
       "      <td>50.7827</td>\n",
       "      <td>6.0941</td>\n",
       "      <td>Aachen</td>\n",
       "      <td>Nordrhein-Westfalen</td>\n",
       "      <td>3</td>\n",
       "      <td>8.305381</td>\n",
       "    </tr>\n",
       "    <tr>\n",
       "      <th>11</th>\n",
       "      <td>1980-09-01</td>\n",
       "      <td>2020-09-30</td>\n",
       "      <td>680</td>\n",
       "      <td>47.9737</td>\n",
       "      <td>8.5205</td>\n",
       "      <td>Donaueschingen (Landeplatz)</td>\n",
       "      <td>Baden-Württemberg</td>\n",
       "      <td>11</td>\n",
       "      <td>6.353643</td>\n",
       "    </tr>\n",
       "    <tr>\n",
       "      <th>44</th>\n",
       "      <td>1969-01-01</td>\n",
       "      <td>2022-04-26</td>\n",
       "      <td>44</td>\n",
       "      <td>52.9336</td>\n",
       "      <td>8.2370</td>\n",
       "      <td>Großenkneten</td>\n",
       "      <td>Niedersachsen</td>\n",
       "      <td>44</td>\n",
       "      <td>0.458574</td>\n",
       "    </tr>\n",
       "    <tr>\n",
       "      <th>52</th>\n",
       "      <td>1969-01-01</td>\n",
       "      <td>2001-12-31</td>\n",
       "      <td>46</td>\n",
       "      <td>53.6623</td>\n",
       "      <td>10.1990</td>\n",
       "      <td>Ahrensburg-Wulfsdorf</td>\n",
       "      <td>Schleswig-Holstein</td>\n",
       "      <td>52</td>\n",
       "      <td>8.912282</td>\n",
       "    </tr>\n",
       "  </tbody>\n",
       "</table>\n",
       "</div>"
      ],
      "text/plain": [
       "            von_datum  bis_datum  Stationshoehe  geoBreite  geoLaenge  \\\n",
       "station_id                                                              \n",
       "1          1937-01-01 1986-06-30            478    47.8413     8.8493   \n",
       "3          1891-01-01 2011-03-31            202    50.7827     6.0941   \n",
       "11         1980-09-01 2020-09-30            680    47.9737     8.5205   \n",
       "44         1969-01-01 2022-04-26             44    52.9336     8.2370   \n",
       "52         1969-01-01 2001-12-31             46    53.6623    10.1990   \n",
       "\n",
       "                           Stationsname           Bundesland  StatID    Active  \n",
       "station_id                                                                      \n",
       "1                                  Aach    Baden-Württemberg       1  9.479266  \n",
       "3                                Aachen  Nordrhein-Westfalen       3  8.305381  \n",
       "11          Donaueschingen (Landeplatz)    Baden-Württemberg      11  6.353643  \n",
       "44                         Großenkneten        Niedersachsen      44  0.458574  \n",
       "52                 Ahrensburg-Wulfsdorf   Schleswig-Holstein      52  8.912282  "
      ]
     },
     "execution_count": 8,
     "metadata": {},
     "output_type": "execute_result"
    }
   ],
   "source": [
    "dwd_stats.head(5)"
   ]
  },
  {
   "cell_type": "code",
   "execution_count": 9,
   "id": "straight-thing",
   "metadata": {},
   "outputs": [],
   "source": [
    "dd = dwd.resample_DWD('Görlitz',histo=True,calc_et=True,rss='1D')"
   ]
  },
  {
   "cell_type": "code",
   "execution_count": 10,
   "id": "exposed-stopping",
   "metadata": {},
   "outputs": [],
   "source": [
    "dd.to_csv('bautzen.csv')"
   ]
  },
  {
   "cell_type": "code",
   "execution_count": 11,
   "id": "known-warrior",
   "metadata": {},
   "outputs": [
    {
     "data": {
      "text/html": [
       "<div>\n",
       "<style scoped>\n",
       "    .dataframe tbody tr th:only-of-type {\n",
       "        vertical-align: middle;\n",
       "    }\n",
       "\n",
       "    .dataframe tbody tr th {\n",
       "        vertical-align: top;\n",
       "    }\n",
       "\n",
       "    .dataframe thead th {\n",
       "        text-align: right;\n",
       "    }\n",
       "</style>\n",
       "<table border=\"1\" class=\"dataframe\">\n",
       "  <thead>\n",
       "    <tr style=\"text-align: right;\">\n",
       "      <th></th>\n",
       "      <th>T</th>\n",
       "      <th>Tmin</th>\n",
       "      <th>Tmax</th>\n",
       "      <th>Prec</th>\n",
       "      <th>Rad</th>\n",
       "      <th>Rs</th>\n",
       "      <th>RH</th>\n",
       "      <th>u2</th>\n",
       "      <th>u2mx</th>\n",
       "      <th>vap</th>\n",
       "      <th>aP</th>\n",
       "      <th>EToPM</th>\n",
       "      <th>EToHG</th>\n",
       "      <th>EToSJ</th>\n",
       "      <th>EToPM2</th>\n",
       "      <th>EToPT</th>\n",
       "    </tr>\n",
       "  </thead>\n",
       "  <tbody>\n",
       "    <tr>\n",
       "      <th>2022-02-09</th>\n",
       "      <td>NaN</td>\n",
       "      <td>NaN</td>\n",
       "      <td>NaN</td>\n",
       "      <td>NaN</td>\n",
       "      <td>192.0</td>\n",
       "      <td>1.92</td>\n",
       "      <td>NaN</td>\n",
       "      <td>NaN</td>\n",
       "      <td>NaN</td>\n",
       "      <td>NaN</td>\n",
       "      <td>NaN</td>\n",
       "      <td>NaN</td>\n",
       "      <td>NaN</td>\n",
       "      <td>0.0</td>\n",
       "      <td>NaN</td>\n",
       "      <td>NaN</td>\n",
       "    </tr>\n",
       "    <tr>\n",
       "      <th>2022-02-10</th>\n",
       "      <td>NaN</td>\n",
       "      <td>NaN</td>\n",
       "      <td>NaN</td>\n",
       "      <td>NaN</td>\n",
       "      <td>NaN</td>\n",
       "      <td>NaN</td>\n",
       "      <td>NaN</td>\n",
       "      <td>NaN</td>\n",
       "      <td>NaN</td>\n",
       "      <td>NaN</td>\n",
       "      <td>NaN</td>\n",
       "      <td>NaN</td>\n",
       "      <td>NaN</td>\n",
       "      <td>0.0</td>\n",
       "      <td>NaN</td>\n",
       "      <td>NaN</td>\n",
       "    </tr>\n",
       "    <tr>\n",
       "      <th>2022-02-11</th>\n",
       "      <td>NaN</td>\n",
       "      <td>NaN</td>\n",
       "      <td>NaN</td>\n",
       "      <td>NaN</td>\n",
       "      <td>289.0</td>\n",
       "      <td>2.89</td>\n",
       "      <td>NaN</td>\n",
       "      <td>NaN</td>\n",
       "      <td>NaN</td>\n",
       "      <td>NaN</td>\n",
       "      <td>NaN</td>\n",
       "      <td>NaN</td>\n",
       "      <td>NaN</td>\n",
       "      <td>0.0</td>\n",
       "      <td>NaN</td>\n",
       "      <td>NaN</td>\n",
       "    </tr>\n",
       "    <tr>\n",
       "      <th>2022-02-12</th>\n",
       "      <td>NaN</td>\n",
       "      <td>NaN</td>\n",
       "      <td>NaN</td>\n",
       "      <td>NaN</td>\n",
       "      <td>956.0</td>\n",
       "      <td>9.56</td>\n",
       "      <td>NaN</td>\n",
       "      <td>NaN</td>\n",
       "      <td>NaN</td>\n",
       "      <td>NaN</td>\n",
       "      <td>NaN</td>\n",
       "      <td>NaN</td>\n",
       "      <td>NaN</td>\n",
       "      <td>0.0</td>\n",
       "      <td>NaN</td>\n",
       "      <td>NaN</td>\n",
       "    </tr>\n",
       "    <tr>\n",
       "      <th>2022-02-13</th>\n",
       "      <td>NaN</td>\n",
       "      <td>NaN</td>\n",
       "      <td>NaN</td>\n",
       "      <td>NaN</td>\n",
       "      <td>972.0</td>\n",
       "      <td>9.72</td>\n",
       "      <td>NaN</td>\n",
       "      <td>NaN</td>\n",
       "      <td>NaN</td>\n",
       "      <td>NaN</td>\n",
       "      <td>NaN</td>\n",
       "      <td>NaN</td>\n",
       "      <td>NaN</td>\n",
       "      <td>0.0</td>\n",
       "      <td>NaN</td>\n",
       "      <td>NaN</td>\n",
       "    </tr>\n",
       "    <tr>\n",
       "      <th>2022-02-14</th>\n",
       "      <td>NaN</td>\n",
       "      <td>NaN</td>\n",
       "      <td>NaN</td>\n",
       "      <td>NaN</td>\n",
       "      <td>951.0</td>\n",
       "      <td>9.51</td>\n",
       "      <td>NaN</td>\n",
       "      <td>NaN</td>\n",
       "      <td>NaN</td>\n",
       "      <td>NaN</td>\n",
       "      <td>NaN</td>\n",
       "      <td>NaN</td>\n",
       "      <td>NaN</td>\n",
       "      <td>0.0</td>\n",
       "      <td>NaN</td>\n",
       "      <td>NaN</td>\n",
       "    </tr>\n",
       "    <tr>\n",
       "      <th>2022-02-15</th>\n",
       "      <td>NaN</td>\n",
       "      <td>NaN</td>\n",
       "      <td>NaN</td>\n",
       "      <td>NaN</td>\n",
       "      <td>774.0</td>\n",
       "      <td>7.74</td>\n",
       "      <td>NaN</td>\n",
       "      <td>NaN</td>\n",
       "      <td>NaN</td>\n",
       "      <td>NaN</td>\n",
       "      <td>NaN</td>\n",
       "      <td>NaN</td>\n",
       "      <td>NaN</td>\n",
       "      <td>0.0</td>\n",
       "      <td>NaN</td>\n",
       "      <td>NaN</td>\n",
       "    </tr>\n",
       "    <tr>\n",
       "      <th>2022-02-16</th>\n",
       "      <td>NaN</td>\n",
       "      <td>NaN</td>\n",
       "      <td>NaN</td>\n",
       "      <td>NaN</td>\n",
       "      <td>436.0</td>\n",
       "      <td>4.36</td>\n",
       "      <td>NaN</td>\n",
       "      <td>NaN</td>\n",
       "      <td>NaN</td>\n",
       "      <td>NaN</td>\n",
       "      <td>NaN</td>\n",
       "      <td>NaN</td>\n",
       "      <td>NaN</td>\n",
       "      <td>0.0</td>\n",
       "      <td>NaN</td>\n",
       "      <td>NaN</td>\n",
       "    </tr>\n",
       "    <tr>\n",
       "      <th>2022-02-17</th>\n",
       "      <td>NaN</td>\n",
       "      <td>NaN</td>\n",
       "      <td>NaN</td>\n",
       "      <td>NaN</td>\n",
       "      <td>579.0</td>\n",
       "      <td>5.79</td>\n",
       "      <td>NaN</td>\n",
       "      <td>NaN</td>\n",
       "      <td>NaN</td>\n",
       "      <td>NaN</td>\n",
       "      <td>NaN</td>\n",
       "      <td>NaN</td>\n",
       "      <td>NaN</td>\n",
       "      <td>0.0</td>\n",
       "      <td>NaN</td>\n",
       "      <td>NaN</td>\n",
       "    </tr>\n",
       "    <tr>\n",
       "      <th>2022-02-18</th>\n",
       "      <td>NaN</td>\n",
       "      <td>NaN</td>\n",
       "      <td>NaN</td>\n",
       "      <td>NaN</td>\n",
       "      <td>474.0</td>\n",
       "      <td>4.74</td>\n",
       "      <td>NaN</td>\n",
       "      <td>NaN</td>\n",
       "      <td>NaN</td>\n",
       "      <td>NaN</td>\n",
       "      <td>NaN</td>\n",
       "      <td>NaN</td>\n",
       "      <td>NaN</td>\n",
       "      <td>0.0</td>\n",
       "      <td>NaN</td>\n",
       "      <td>NaN</td>\n",
       "    </tr>\n",
       "    <tr>\n",
       "      <th>2022-02-19</th>\n",
       "      <td>NaN</td>\n",
       "      <td>NaN</td>\n",
       "      <td>NaN</td>\n",
       "      <td>NaN</td>\n",
       "      <td>906.0</td>\n",
       "      <td>9.06</td>\n",
       "      <td>NaN</td>\n",
       "      <td>NaN</td>\n",
       "      <td>NaN</td>\n",
       "      <td>NaN</td>\n",
       "      <td>NaN</td>\n",
       "      <td>NaN</td>\n",
       "      <td>NaN</td>\n",
       "      <td>0.0</td>\n",
       "      <td>NaN</td>\n",
       "      <td>NaN</td>\n",
       "    </tr>\n",
       "    <tr>\n",
       "      <th>2022-02-20</th>\n",
       "      <td>NaN</td>\n",
       "      <td>NaN</td>\n",
       "      <td>NaN</td>\n",
       "      <td>NaN</td>\n",
       "      <td>454.0</td>\n",
       "      <td>4.54</td>\n",
       "      <td>NaN</td>\n",
       "      <td>NaN</td>\n",
       "      <td>NaN</td>\n",
       "      <td>NaN</td>\n",
       "      <td>NaN</td>\n",
       "      <td>NaN</td>\n",
       "      <td>NaN</td>\n",
       "      <td>0.0</td>\n",
       "      <td>NaN</td>\n",
       "      <td>NaN</td>\n",
       "    </tr>\n",
       "    <tr>\n",
       "      <th>2022-02-21</th>\n",
       "      <td>NaN</td>\n",
       "      <td>NaN</td>\n",
       "      <td>NaN</td>\n",
       "      <td>NaN</td>\n",
       "      <td>568.0</td>\n",
       "      <td>5.68</td>\n",
       "      <td>NaN</td>\n",
       "      <td>NaN</td>\n",
       "      <td>NaN</td>\n",
       "      <td>NaN</td>\n",
       "      <td>NaN</td>\n",
       "      <td>NaN</td>\n",
       "      <td>NaN</td>\n",
       "      <td>0.0</td>\n",
       "      <td>NaN</td>\n",
       "      <td>NaN</td>\n",
       "    </tr>\n",
       "    <tr>\n",
       "      <th>2022-02-22</th>\n",
       "      <td>NaN</td>\n",
       "      <td>NaN</td>\n",
       "      <td>NaN</td>\n",
       "      <td>NaN</td>\n",
       "      <td>516.0</td>\n",
       "      <td>5.16</td>\n",
       "      <td>NaN</td>\n",
       "      <td>NaN</td>\n",
       "      <td>NaN</td>\n",
       "      <td>NaN</td>\n",
       "      <td>NaN</td>\n",
       "      <td>NaN</td>\n",
       "      <td>NaN</td>\n",
       "      <td>0.0</td>\n",
       "      <td>NaN</td>\n",
       "      <td>NaN</td>\n",
       "    </tr>\n",
       "    <tr>\n",
       "      <th>2022-02-23</th>\n",
       "      <td>NaN</td>\n",
       "      <td>NaN</td>\n",
       "      <td>NaN</td>\n",
       "      <td>NaN</td>\n",
       "      <td>975.0</td>\n",
       "      <td>9.75</td>\n",
       "      <td>NaN</td>\n",
       "      <td>NaN</td>\n",
       "      <td>NaN</td>\n",
       "      <td>NaN</td>\n",
       "      <td>NaN</td>\n",
       "      <td>NaN</td>\n",
       "      <td>NaN</td>\n",
       "      <td>0.0</td>\n",
       "      <td>NaN</td>\n",
       "      <td>NaN</td>\n",
       "    </tr>\n",
       "    <tr>\n",
       "      <th>2022-02-24</th>\n",
       "      <td>NaN</td>\n",
       "      <td>NaN</td>\n",
       "      <td>NaN</td>\n",
       "      <td>NaN</td>\n",
       "      <td>908.0</td>\n",
       "      <td>9.08</td>\n",
       "      <td>NaN</td>\n",
       "      <td>NaN</td>\n",
       "      <td>NaN</td>\n",
       "      <td>NaN</td>\n",
       "      <td>NaN</td>\n",
       "      <td>NaN</td>\n",
       "      <td>NaN</td>\n",
       "      <td>0.0</td>\n",
       "      <td>NaN</td>\n",
       "      <td>NaN</td>\n",
       "    </tr>\n",
       "    <tr>\n",
       "      <th>2022-02-25</th>\n",
       "      <td>NaN</td>\n",
       "      <td>NaN</td>\n",
       "      <td>NaN</td>\n",
       "      <td>NaN</td>\n",
       "      <td>755.0</td>\n",
       "      <td>7.55</td>\n",
       "      <td>NaN</td>\n",
       "      <td>NaN</td>\n",
       "      <td>NaN</td>\n",
       "      <td>NaN</td>\n",
       "      <td>NaN</td>\n",
       "      <td>NaN</td>\n",
       "      <td>NaN</td>\n",
       "      <td>0.0</td>\n",
       "      <td>NaN</td>\n",
       "      <td>NaN</td>\n",
       "    </tr>\n",
       "    <tr>\n",
       "      <th>2022-02-26</th>\n",
       "      <td>NaN</td>\n",
       "      <td>NaN</td>\n",
       "      <td>NaN</td>\n",
       "      <td>NaN</td>\n",
       "      <td>372.0</td>\n",
       "      <td>3.72</td>\n",
       "      <td>NaN</td>\n",
       "      <td>NaN</td>\n",
       "      <td>NaN</td>\n",
       "      <td>NaN</td>\n",
       "      <td>NaN</td>\n",
       "      <td>NaN</td>\n",
       "      <td>NaN</td>\n",
       "      <td>0.0</td>\n",
       "      <td>NaN</td>\n",
       "      <td>NaN</td>\n",
       "    </tr>\n",
       "    <tr>\n",
       "      <th>2022-02-27</th>\n",
       "      <td>NaN</td>\n",
       "      <td>NaN</td>\n",
       "      <td>NaN</td>\n",
       "      <td>NaN</td>\n",
       "      <td>916.0</td>\n",
       "      <td>9.16</td>\n",
       "      <td>NaN</td>\n",
       "      <td>NaN</td>\n",
       "      <td>NaN</td>\n",
       "      <td>NaN</td>\n",
       "      <td>NaN</td>\n",
       "      <td>NaN</td>\n",
       "      <td>NaN</td>\n",
       "      <td>0.0</td>\n",
       "      <td>NaN</td>\n",
       "      <td>NaN</td>\n",
       "    </tr>\n",
       "    <tr>\n",
       "      <th>2022-02-28</th>\n",
       "      <td>NaN</td>\n",
       "      <td>NaN</td>\n",
       "      <td>NaN</td>\n",
       "      <td>NaN</td>\n",
       "      <td>951.0</td>\n",
       "      <td>9.51</td>\n",
       "      <td>NaN</td>\n",
       "      <td>NaN</td>\n",
       "      <td>NaN</td>\n",
       "      <td>NaN</td>\n",
       "      <td>NaN</td>\n",
       "      <td>NaN</td>\n",
       "      <td>NaN</td>\n",
       "      <td>0.0</td>\n",
       "      <td>NaN</td>\n",
       "      <td>NaN</td>\n",
       "    </tr>\n",
       "  </tbody>\n",
       "</table>\n",
       "</div>"
      ],
      "text/plain": [
       "             T  Tmin  Tmax  Prec    Rad    Rs  RH  u2  u2mx  vap  aP  EToPM  \\\n",
       "2022-02-09 NaN   NaN   NaN   NaN  192.0  1.92 NaN NaN   NaN  NaN NaN    NaN   \n",
       "2022-02-10 NaN   NaN   NaN   NaN    NaN   NaN NaN NaN   NaN  NaN NaN    NaN   \n",
       "2022-02-11 NaN   NaN   NaN   NaN  289.0  2.89 NaN NaN   NaN  NaN NaN    NaN   \n",
       "2022-02-12 NaN   NaN   NaN   NaN  956.0  9.56 NaN NaN   NaN  NaN NaN    NaN   \n",
       "2022-02-13 NaN   NaN   NaN   NaN  972.0  9.72 NaN NaN   NaN  NaN NaN    NaN   \n",
       "2022-02-14 NaN   NaN   NaN   NaN  951.0  9.51 NaN NaN   NaN  NaN NaN    NaN   \n",
       "2022-02-15 NaN   NaN   NaN   NaN  774.0  7.74 NaN NaN   NaN  NaN NaN    NaN   \n",
       "2022-02-16 NaN   NaN   NaN   NaN  436.0  4.36 NaN NaN   NaN  NaN NaN    NaN   \n",
       "2022-02-17 NaN   NaN   NaN   NaN  579.0  5.79 NaN NaN   NaN  NaN NaN    NaN   \n",
       "2022-02-18 NaN   NaN   NaN   NaN  474.0  4.74 NaN NaN   NaN  NaN NaN    NaN   \n",
       "2022-02-19 NaN   NaN   NaN   NaN  906.0  9.06 NaN NaN   NaN  NaN NaN    NaN   \n",
       "2022-02-20 NaN   NaN   NaN   NaN  454.0  4.54 NaN NaN   NaN  NaN NaN    NaN   \n",
       "2022-02-21 NaN   NaN   NaN   NaN  568.0  5.68 NaN NaN   NaN  NaN NaN    NaN   \n",
       "2022-02-22 NaN   NaN   NaN   NaN  516.0  5.16 NaN NaN   NaN  NaN NaN    NaN   \n",
       "2022-02-23 NaN   NaN   NaN   NaN  975.0  9.75 NaN NaN   NaN  NaN NaN    NaN   \n",
       "2022-02-24 NaN   NaN   NaN   NaN  908.0  9.08 NaN NaN   NaN  NaN NaN    NaN   \n",
       "2022-02-25 NaN   NaN   NaN   NaN  755.0  7.55 NaN NaN   NaN  NaN NaN    NaN   \n",
       "2022-02-26 NaN   NaN   NaN   NaN  372.0  3.72 NaN NaN   NaN  NaN NaN    NaN   \n",
       "2022-02-27 NaN   NaN   NaN   NaN  916.0  9.16 NaN NaN   NaN  NaN NaN    NaN   \n",
       "2022-02-28 NaN   NaN   NaN   NaN  951.0  9.51 NaN NaN   NaN  NaN NaN    NaN   \n",
       "\n",
       "            EToHG  EToSJ  EToPM2  EToPT  \n",
       "2022-02-09    NaN    0.0     NaN    NaN  \n",
       "2022-02-10    NaN    0.0     NaN    NaN  \n",
       "2022-02-11    NaN    0.0     NaN    NaN  \n",
       "2022-02-12    NaN    0.0     NaN    NaN  \n",
       "2022-02-13    NaN    0.0     NaN    NaN  \n",
       "2022-02-14    NaN    0.0     NaN    NaN  \n",
       "2022-02-15    NaN    0.0     NaN    NaN  \n",
       "2022-02-16    NaN    0.0     NaN    NaN  \n",
       "2022-02-17    NaN    0.0     NaN    NaN  \n",
       "2022-02-18    NaN    0.0     NaN    NaN  \n",
       "2022-02-19    NaN    0.0     NaN    NaN  \n",
       "2022-02-20    NaN    0.0     NaN    NaN  \n",
       "2022-02-21    NaN    0.0     NaN    NaN  \n",
       "2022-02-22    NaN    0.0     NaN    NaN  \n",
       "2022-02-23    NaN    0.0     NaN    NaN  \n",
       "2022-02-24    NaN    0.0     NaN    NaN  \n",
       "2022-02-25    NaN    0.0     NaN    NaN  \n",
       "2022-02-26    NaN    0.0     NaN    NaN  \n",
       "2022-02-27    NaN    0.0     NaN    NaN  \n",
       "2022-02-28    NaN    0.0     NaN    NaN  "
      ]
     },
     "execution_count": 11,
     "metadata": {},
     "output_type": "execute_result"
    }
   ],
   "source": [
    "dd.tail(20)"
   ]
  },
  {
   "cell_type": "code",
   "execution_count": 13,
   "id": "hired-validation",
   "metadata": {},
   "outputs": [
    {
     "ename": "SpecificationError",
     "evalue": "Column(s) ['RHmax', 'RHmin'] do not exist",
     "output_type": "error",
     "traceback": [
      "\u001b[0;31m---------------------------------------------------------------------------\u001b[0m",
      "\u001b[0;31mSpecificationError\u001b[0m                        Traceback (most recent call last)",
      "\u001b[0;32m<ipython-input-13-f1a3bd9d7780>\u001b[0m in \u001b[0;36m<module>\u001b[0;34m\u001b[0m\n\u001b[0;32m----> 1\u001b[0;31m \u001b[0mddx\u001b[0m \u001b[0;34m=\u001b[0m \u001b[0mdd\u001b[0m\u001b[0;34m.\u001b[0m\u001b[0mresample\u001b[0m\u001b[0;34m(\u001b[0m\u001b[0;34m'1W'\u001b[0m\u001b[0;34m)\u001b[0m\u001b[0;34m.\u001b[0m\u001b[0magg\u001b[0m\u001b[0;34m(\u001b[0m\u001b[0;34m{\u001b[0m\u001b[0;34m'T'\u001b[0m\u001b[0;34m:\u001b[0m\u001b[0;34m'mean'\u001b[0m\u001b[0;34m,\u001b[0m\u001b[0;34m'Tmin'\u001b[0m\u001b[0;34m:\u001b[0m\u001b[0;34m'min'\u001b[0m\u001b[0;34m,\u001b[0m\u001b[0;34m'Tmax'\u001b[0m\u001b[0;34m:\u001b[0m\u001b[0;34m'max'\u001b[0m\u001b[0;34m,\u001b[0m\u001b[0;34m'Prec'\u001b[0m\u001b[0;34m:\u001b[0m\u001b[0;34m'sum'\u001b[0m\u001b[0;34m,\u001b[0m\u001b[0;34m'Rad'\u001b[0m\u001b[0;34m:\u001b[0m\u001b[0;34m'sum'\u001b[0m\u001b[0;34m,\u001b[0m\u001b[0;34m'RHmin'\u001b[0m\u001b[0;34m:\u001b[0m\u001b[0;34m'min'\u001b[0m\u001b[0;34m,\u001b[0m\u001b[0;34m'RHmax'\u001b[0m\u001b[0;34m:\u001b[0m\u001b[0;34m'max'\u001b[0m\u001b[0;34m,\u001b[0m\u001b[0;34m'u2'\u001b[0m\u001b[0;34m:\u001b[0m\u001b[0;34m'mean'\u001b[0m\u001b[0;34m,\u001b[0m\u001b[0;34m'aP'\u001b[0m\u001b[0;34m:\u001b[0m\u001b[0;34m'mean'\u001b[0m\u001b[0;34m}\u001b[0m\u001b[0;34m)\u001b[0m\u001b[0;34m\u001b[0m\u001b[0;34m\u001b[0m\u001b[0m\n\u001b[0m\u001b[1;32m      2\u001b[0m \u001b[0;34m\u001b[0m\u001b[0m\n\u001b[1;32m      3\u001b[0m \u001b[0;31m# set up plotly figure\u001b[0m\u001b[0;34m\u001b[0m\u001b[0;34m\u001b[0m\u001b[0;34m\u001b[0m\u001b[0m\n\u001b[1;32m      4\u001b[0m \u001b[0mfig\u001b[0m \u001b[0;34m=\u001b[0m \u001b[0mmake_subplots\u001b[0m\u001b[0;34m(\u001b[0m\u001b[0;36m1\u001b[0m\u001b[0;34m,\u001b[0m\u001b[0;36m1\u001b[0m\u001b[0;34m)\u001b[0m\u001b[0;34m\u001b[0m\u001b[0;34m\u001b[0m\u001b[0m\n\u001b[1;32m      5\u001b[0m \u001b[0mfig\u001b[0m\u001b[0;34m.\u001b[0m\u001b[0madd_trace\u001b[0m\u001b[0;34m(\u001b[0m\u001b[0mgo\u001b[0m\u001b[0;34m.\u001b[0m\u001b[0mBar\u001b[0m\u001b[0;34m(\u001b[0m\u001b[0mx\u001b[0m\u001b[0;34m=\u001b[0m\u001b[0mddx\u001b[0m\u001b[0;34m.\u001b[0m\u001b[0mindex\u001b[0m\u001b[0;34m,\u001b[0m \u001b[0my\u001b[0m\u001b[0;34m=\u001b[0m\u001b[0mddx\u001b[0m\u001b[0;34m[\u001b[0m\u001b[0;34m'Prec'\u001b[0m\u001b[0;34m]\u001b[0m\u001b[0;34m,\u001b[0m \u001b[0mname\u001b[0m\u001b[0;34m=\u001b[0m\u001b[0;34m'Prec'\u001b[0m\u001b[0;34m,\u001b[0m \u001b[0mmarker_color\u001b[0m \u001b[0;34m=\u001b[0m \u001b[0;34m'steelblue'\u001b[0m\u001b[0;34m,\u001b[0m \u001b[0mopacity\u001b[0m\u001b[0;34m=\u001b[0m\u001b[0;36m0.4\u001b[0m\u001b[0;34m)\u001b[0m\u001b[0;34m)\u001b[0m\u001b[0;34m\u001b[0m\u001b[0;34m\u001b[0m\u001b[0m\n",
      "\u001b[0;32m~/miniconda3/lib/python3.7/site-packages/pandas/core/resample.py\u001b[0m in \u001b[0;36maggregate\u001b[0;34m(self, func, *args, **kwargs)\u001b[0m\n\u001b[1;32m    286\u001b[0m \u001b[0;34m\u001b[0m\u001b[0m\n\u001b[1;32m    287\u001b[0m         \u001b[0mself\u001b[0m\u001b[0;34m.\u001b[0m\u001b[0m_set_binner\u001b[0m\u001b[0;34m(\u001b[0m\u001b[0;34m)\u001b[0m\u001b[0;34m\u001b[0m\u001b[0;34m\u001b[0m\u001b[0m\n\u001b[0;32m--> 288\u001b[0;31m         \u001b[0mresult\u001b[0m\u001b[0;34m,\u001b[0m \u001b[0mhow\u001b[0m \u001b[0;34m=\u001b[0m \u001b[0mself\u001b[0m\u001b[0;34m.\u001b[0m\u001b[0m_aggregate\u001b[0m\u001b[0;34m(\u001b[0m\u001b[0mfunc\u001b[0m\u001b[0;34m,\u001b[0m \u001b[0;34m*\u001b[0m\u001b[0margs\u001b[0m\u001b[0;34m,\u001b[0m \u001b[0;34m**\u001b[0m\u001b[0mkwargs\u001b[0m\u001b[0;34m)\u001b[0m\u001b[0;34m\u001b[0m\u001b[0;34m\u001b[0m\u001b[0m\n\u001b[0m\u001b[1;32m    289\u001b[0m         \u001b[0;32mif\u001b[0m \u001b[0mresult\u001b[0m \u001b[0;32mis\u001b[0m \u001b[0;32mNone\u001b[0m\u001b[0;34m:\u001b[0m\u001b[0;34m\u001b[0m\u001b[0;34m\u001b[0m\u001b[0m\n\u001b[1;32m    290\u001b[0m             \u001b[0mhow\u001b[0m \u001b[0;34m=\u001b[0m \u001b[0mfunc\u001b[0m\u001b[0;34m\u001b[0m\u001b[0;34m\u001b[0m\u001b[0m\n",
      "\u001b[0;32m~/miniconda3/lib/python3.7/site-packages/pandas/core/base.py\u001b[0m in \u001b[0;36m_aggregate\u001b[0;34m(self, arg, *args, **kwargs)\u001b[0m\n\u001b[1;32m    352\u001b[0m                 ) != len(keys):\n\u001b[1;32m    353\u001b[0m                     \u001b[0mcols\u001b[0m \u001b[0;34m=\u001b[0m \u001b[0msorted\u001b[0m\u001b[0;34m(\u001b[0m\u001b[0mset\u001b[0m\u001b[0;34m(\u001b[0m\u001b[0mkeys\u001b[0m\u001b[0;34m)\u001b[0m \u001b[0;34m-\u001b[0m \u001b[0mset\u001b[0m\u001b[0;34m(\u001b[0m\u001b[0mobj\u001b[0m\u001b[0;34m.\u001b[0m\u001b[0mcolumns\u001b[0m\u001b[0;34m.\u001b[0m\u001b[0mintersection\u001b[0m\u001b[0;34m(\u001b[0m\u001b[0mkeys\u001b[0m\u001b[0;34m)\u001b[0m\u001b[0;34m)\u001b[0m\u001b[0;34m)\u001b[0m\u001b[0;34m\u001b[0m\u001b[0;34m\u001b[0m\u001b[0m\n\u001b[0;32m--> 354\u001b[0;31m                     \u001b[0;32mraise\u001b[0m \u001b[0mSpecificationError\u001b[0m\u001b[0;34m(\u001b[0m\u001b[0;34mf\"Column(s) {cols} do not exist\"\u001b[0m\u001b[0;34m)\u001b[0m\u001b[0;34m\u001b[0m\u001b[0;34m\u001b[0m\u001b[0m\n\u001b[0m\u001b[1;32m    355\u001b[0m \u001b[0;34m\u001b[0m\u001b[0m\n\u001b[1;32m    356\u001b[0m             \u001b[0;32mfrom\u001b[0m \u001b[0mpandas\u001b[0m\u001b[0;34m.\u001b[0m\u001b[0mcore\u001b[0m\u001b[0;34m.\u001b[0m\u001b[0mreshape\u001b[0m\u001b[0;34m.\u001b[0m\u001b[0mconcat\u001b[0m \u001b[0;32mimport\u001b[0m \u001b[0mconcat\u001b[0m\u001b[0;34m\u001b[0m\u001b[0;34m\u001b[0m\u001b[0m\n",
      "\u001b[0;31mSpecificationError\u001b[0m: Column(s) ['RHmax', 'RHmin'] do not exist"
     ]
    }
   ],
   "source": [
    "ddx = dd.resample('1W').agg({'T':'mean','Tmin':'min','Tmax':'max','Prec':'sum','Rad':'sum','RHmin':'min','RHmax':'max','u2':'mean','aP':'mean'})\n",
    "\n",
    "# set up plotly figure\n",
    "fig = make_subplots(1,1)\n",
    "fig.add_trace(go.Bar(x=ddx.index, y=ddx['Prec'], name='Prec', marker_color = 'steelblue', opacity=0.4))\n",
    "fig.add_trace(go.Scatter(x=ddx.index, y=ddx['T'], line=dict(color='red'), name='T'))\n",
    "fig.layout.update(yaxis2 = go.layout.YAxis(overlaying='y', side='right'))\n",
    "fig.add_trace(go.Scatter(x=ddx.index, y=ddx['Rad'], line=dict(color='orange'), name='Rad',yaxis='y2'))\n",
    "fig.update_layout({'template': 'none'})\n",
    "fig.show()"
   ]
  },
  {
   "cell_type": "code",
   "execution_count": 19,
   "id": "catholic-price",
   "metadata": {},
   "outputs": [
    {
     "data": {
      "text/plain": [
       "<matplotlib.axes._subplots.AxesSubplot at 0x7fd3fd780470>"
      ]
     },
     "execution_count": 19,
     "metadata": {},
     "output_type": "execute_result"
    },
    {
     "data": {
      "image/png": "[encoded data removed]",
      "text/plain": [
       "<Figure size 432x288 with 1 Axes>"
      ]
     },
     "metadata": {},
     "output_type": "display_data"
    }
   ],
   "source": [
    "ddx = dd.resample('1W').agg({'T':'mean','Tmin':'min','Tmax':'max','Prec':'sum','Rad':'sum','RHmin':'min','RHmax':'max','u2':'mean','aP':'mean'})\n",
    "ddx['T'].plot()\n",
    "ddx['Tmin'].plot()\n",
    "ddx['Tmax'].plot()"
   ]
  },
  {
   "cell_type": "code",
   "execution_count": 23,
   "id": "revised-colonial",
   "metadata": {},
   "outputs": [
    {
     "data": {
      "text/plain": [
       "<matplotlib.axes._subplots.AxesSubplot at 0x7fd3fda14550>"
      ]
     },
     "execution_count": 23,
     "metadata": {},
     "output_type": "execute_result"
    },
    {
     "data": {
      "image/png": "[encoded data removed]",
      "text/plain": [
       "<Figure size 432x288 with 1 Axes>"
      ]
     },
     "metadata": {},
     "output_type": "display_data"
    }
   ],
   "source": [
    "#let's look at an event with high precipitation:\n",
    "tst = pd.to_datetime('2020-10-13 12:00')\n",
    "tnd = pd.to_datetime('2020-10-15 04:00')\n",
    "\n",
    "dd.loc[tst:tnd,'Prec'].plot()"
   ]
  },
  {
   "cell_type": "code",
   "execution_count": 24,
   "id": "optimum-nicaragua",
   "metadata": {},
   "outputs": [],
   "source": [
    "from scipy import optimize\n",
    "\n",
    "# define parameters\n",
    "K = 1.09 \n",
    "theta_e = 0.47; \n",
    "Se = 0.247\n",
    "psi = 11.01\n",
    "\n",
    "#K = 0.04        # hydraulic conductivity in cm/hr\n",
    "#theta_e = 0.45  # effective porosity: porosity - residual moisture content\n",
    "#Se = 0.15       # initial effective saturation\n",
    "#psi = 30        # wetting front soil suction head in cm\n",
    "\n",
    "dtheta = (1-Se)*theta_e # calculate delta moisture\n",
    "\n",
    "\n",
    "# Green Ampt model F=K*t+psi*dtheta*ln(1+F/(psi*dtheta))\n",
    "def greenampt(F, t, K=K, psi=psi, dtheta=dtheta):\n",
    "    y = -F+K*t+psi*dtheta*np.log(1+F/(psi*dtheta))\n",
    "    return y\n",
    "\n",
    "# SECANT method to find the root by calling functions in \n",
    "# the optimize package. Without passing the first order derivative,\n",
    "# the \"newton\" funciton uses the SECANT method.\n",
    "def getroot(t, finit):\n",
    "    fun = lambda F: greenampt(F, t) \n",
    "    Froot = optimize.newton(fun, finit)\n",
    "    return Froot\n",
    "\n",
    "rainstart = np.where(dd.loc[tst:tnd,'Prec'].values>0.)[0][0]\n",
    "infilen = len(dd.loc[tst:tnd,'Prec'].values)-rainstart\n",
    "\n",
    "trange = np.arange(infilen) # time range in hr\n",
    "F = np.zeros(len(trange)) # cumulative infiltration\n",
    "\n",
    "for i in range(len(trange)):\n",
    "    t = trange[i]\n",
    "    fg=K*t # initial guess of F(t)=Kt\n",
    "    F[i] = getroot(t, fg) # calculate cumulative infiltration\n",
    "\n",
    "# calculate infiltration rate. In the denominator, 1e-9 is \n",
    "# added to avoid the division-by-zero error (because F(t=0)=0).\n",
    "f = K*(psi*dtheta/(F+1e-9)+1)\n",
    "f[0] = np.nan\n",
    "\n",
    "fini = np.zeros(len(dd.loc[tst:tnd,'Prec'].values))\n",
    "fini[rainstart:] = np.fmin(f,dd.loc[tst:tnd,'Prec'].values[rainstart:])\n"
   ]
  },
  {
   "cell_type": "code",
   "execution_count": 32,
   "id": "meaning-grave",
   "metadata": {},
   "outputs": [
    {
     "data": {
      "text/plain": [
       "1.388888888888889e-05"
      ]
     },
     "execution_count": 32,
     "metadata": {},
     "output_type": "execute_result"
    }
   ],
   "source": [
    "0.05/3600"
   ]
  },
  {
   "cell_type": "code",
   "execution_count": 25,
   "id": "opponent-shame",
   "metadata": {},
   "outputs": [
    {
     "data": {
      "text/plain": [
       "[<matplotlib.lines.Line2D at 0x7fd3fdefe4a8>]"
      ]
     },
     "execution_count": 25,
     "metadata": {},
     "output_type": "execute_result"
    },
    {
     "data": {
      "image/png": "[encoded data removed]",
      "text/plain": [
       "<Figure size 432x288 with 1 Axes>"
      ]
     },
     "metadata": {},
     "output_type": "display_data"
    }
   ],
   "source": [
    "plot(dd.loc[tst:tnd,'Prec'].index, dd.loc[tst:tnd,'Prec'].values, color='blue')\n",
    "plot(dd.loc[tst:tnd,'Prec'].index, fini, color='orange')"
   ]
  },
  {
   "cell_type": "code",
   "execution_count": null,
   "id": "exterior-canberra",
   "metadata": {},
   "outputs": [],
   "source": []
  },
  {
   "cell_type": "code",
   "execution_count": 26,
   "id": "automotive-texas",
   "metadata": {},
   "outputs": [],
   "source": [
    "from GreenAmpt import GreenAmpt"
   ]
  },
  {
   "cell_type": "code",
   "execution_count": 27,
   "id": "silver-column",
   "metadata": {},
   "outputs": [],
   "source": [
    "K = 1.09; psi = 11.01; dtheta = 0.247; thetas = 0.47; dt = 0.166\n",
    "i = [1.08, 1.26, 3.56, 5.92, 7.22, 4.58, 3.84, 6.84, 19.08, \\\n",
    "         9.90, 4.86, 3.12, 2.52, 2.16, 1.68, 1.44, 1.14, 1.02]"
   ]
  },
  {
   "cell_type": "code",
   "execution_count": 28,
   "id": "american-boring",
   "metadata": {},
   "outputs": [
    {
     "data": {
      "text/html": [
       "<iframe\n",
       "    scrolling=\"no\"\n",
       "    width=\"100%\"\n",
       "    height=\"545px\"\n",
       "    src=\"iframe_figures/figure_28.html\"\n",
       "    frameborder=\"0\"\n",
       "    allowfullscreen\n",
       "></iframe>\n"
      ]
     },
     "metadata": {},
     "output_type": "display_data"
    }
   ],
   "source": [
    "a = GreenAmpt(K, dt, dtheta,thetas, psi, list(dd.loc[tst:tnd,'Prec'].values))\n",
    "F, f, t =a.F_f()  \n",
    "f = np.array(f)\n",
    "f[f<0]=np.nan\n",
    "\n",
    "ddy = dd.loc[tst:tnd].copy()\n",
    "ddy['Infilt'] = np.array(diff(F))\n",
    "ddy['Infiltcap'] = np.array(f[1:])\n",
    "\n",
    "fig = go.Figure()\n",
    "fig.add_trace(go.Scatter(x=ddy.index, y=ddy['Prec'], line=dict(color='steelblue'), fill='tonexty', name='Precip'))\n",
    "fig.add_trace(go.Scatter(x=ddy.index, y=ddy['Infilt'], line=dict(color='orange'), fill='tozeroy', name='Infilt'))\n",
    "fig.add_trace(go.Scatter(x=ddy.index, y=ddy['Infiltcap'], line=dict(color='green'), fill='tonexty', name='Infiltcap'))\n",
    "fig.update_layout({'template': 'none'})\n",
    "\n"
   ]
  },
  {
   "cell_type": "code",
   "execution_count": 29,
   "id": "fossil-airfare",
   "metadata": {},
   "outputs": [
    {
     "name": "stdout",
     "output_type": "stream",
     "text": [
      "1.2\n",
      "3.6\n"
     ]
    },
    {
     "data": {
      "text/html": [
       "<iframe\n",
       "    scrolling=\"no\"\n",
       "    width=\"100%\"\n",
       "    height=\"545px\"\n",
       "    src=\"iframe_figures/figure_29.html\"\n",
       "    frameborder=\"0\"\n",
       "    allowfullscreen\n",
       "></iframe>\n"
      ]
     },
     "metadata": {},
     "output_type": "display_data"
    }
   ],
   "source": [
    "K = 1.09; psi = 11.01; dtheta = 0.347; thetas = 0.47; dt = 1.\n",
    "infi = np.zeros((10,len(dd.loc[tst:tnd,'Prec'].values)))\n",
    "i=0\n",
    "Kss = 0.5+3*np.arange(10)/10.\n",
    "for Ks in Kss:\n",
    "    #run green ampt with parameter Ks\n",
    "    a = GreenAmpt(Ks, dt, dtheta,thetas, psi, list(dd.loc[tst:tnd,'Prec'].values))\n",
    "    F, f, t =a.F_f()  \n",
    "    #f = np.array(f)\n",
    "    #f[f<0]=np.nan\n",
    "    infi[i,:] = np.array(np.diff(F))\n",
    "    i+=1\n",
    "\n",
    "trace_list1 = [\n",
    "    go.Scatter(x=dd.loc[tst:tnd,'Prec'].index, y=dd.loc[tst:tnd,'Prec'], line=dict(color='steelblue'), fill='tonexty', name='Precip'),\n",
    "    go.Scatter(x=dd.loc[tst:tnd,'Prec'].index, y=dd.loc[tst:tnd,'Prec'], line=dict(color='steelblue'), fill='tonexty', name='Precip'),\n",
    "    go.Scatter(x=dd.loc[tst:tnd,'Prec'].index, y=dd.loc[tst:tnd,'Prec'], line=dict(color='steelblue'), fill='tonexty', name='Precip'),\n",
    "    go.Scatter(x=dd.loc[tst:tnd,'Prec'].index, y=dd.loc[tst:tnd,'Prec'], line=dict(color='steelblue'), fill='tonexty', name='Precip'),\n",
    "    go.Scatter(x=dd.loc[tst:tnd,'Prec'].index, y=dd.loc[tst:tnd,'Prec'], line=dict(color='steelblue'), fill='tonexty', name='Precip'),\n",
    "    go.Scatter(x=dd.loc[tst:tnd,'Prec'].index, y=dd.loc[tst:tnd,'Prec'], line=dict(color='steelblue'), fill='tonexty', name='Precip'),\n",
    "    go.Scatter(x=dd.loc[tst:tnd,'Prec'].index, y=dd.loc[tst:tnd,'Prec'], line=dict(color='steelblue'), fill='tonexty', name='Precip'),\n",
    "    go.Scatter(x=dd.loc[tst:tnd,'Prec'].index, y=dd.loc[tst:tnd,'Prec'], line=dict(color='steelblue'), fill='tonexty', name='Precip'),\n",
    "    go.Scatter(x=dd.loc[tst:tnd,'Prec'].index, y=dd.loc[tst:tnd,'Prec'], line=dict(color='steelblue'), fill='tonexty', name='Precip'),\n",
    "    go.Scatter(x=dd.loc[tst:tnd,'Prec'].index, y=dd.loc[tst:tnd,'Prec'], line=dict(color='steelblue'), fill='tonexty', name='Precip')\n",
    "]\n",
    "\n",
    "trace_list2 = [\n",
    "    go.Scatter(x=dd.loc[tst:tnd,'Prec'].index, y=infi[0,:], line=dict(color='orange'), fill='tozeroy', name='Infilt K='+str(Kss[0])),\n",
    "    go.Scatter(x=dd.loc[tst:tnd,'Prec'].index, y=infi[1,:], line=dict(color='orange'), fill='tozeroy', name='Infilt K='+str(Kss[1])),\n",
    "    go.Scatter(x=dd.loc[tst:tnd,'Prec'].index, y=infi[2,:], line=dict(color='orange'), fill='tozeroy', name='Infilt K='+str(Kss[2])),\n",
    "    go.Scatter(x=dd.loc[tst:tnd,'Prec'].index, y=infi[3,:], line=dict(color='orange'), fill='tozeroy', name='Infilt K='+str(Kss[3])),\n",
    "    go.Scatter(x=dd.loc[tst:tnd,'Prec'].index, y=infi[4,:], line=dict(color='orange'), fill='tozeroy', name='Infilt K='+str(Kss[4])),\n",
    "    go.Scatter(x=dd.loc[tst:tnd,'Prec'].index, y=infi[5,:], line=dict(color='orange'), fill='tozeroy', name='Infilt K='+str(Kss[5])),\n",
    "    go.Scatter(x=dd.loc[tst:tnd,'Prec'].index, y=infi[6,:], line=dict(color='orange'), fill='tozeroy', name='Infilt K='+str(Kss[6])),\n",
    "    go.Scatter(x=dd.loc[tst:tnd,'Prec'].index, y=infi[7,:], line=dict(color='orange'), fill='tozeroy', name='Infilt K='+str(Kss[7])),\n",
    "    go.Scatter(x=dd.loc[tst:tnd,'Prec'].index, y=infi[8,:], line=dict(color='orange'), fill='tozeroy', name='Infilt K='+str(Kss[8])),\n",
    "    go.Scatter(x=dd.loc[tst:tnd,'Prec'].index, y=infi[9,:], line=dict(color='orange'), fill='tozeroy', name='Infilt K='+str(Kss[9])),\n",
    "]\n",
    "\n",
    "fig = go.Figure(data=trace_list1+trace_list2)\n",
    "fig.update_layout({'template': 'none'})\n",
    "\n",
    "steps = []\n",
    "for i in range(10):\n",
    "    # Hide all traces\n",
    "    step = dict(\n",
    "        method = 'restyle',  \n",
    "        args = ['visible', [False] * len(fig.data)],\n",
    "    )\n",
    "    # Enable the two traces we want to see\n",
    "    step['args'][1][i] = True\n",
    "    step['args'][1][i+10] = True\n",
    "    \n",
    "    # Add step to step list\n",
    "    steps.append(step)\n",
    "\n",
    "sliders = [dict(\n",
    "    steps = steps,\n",
    ")]\n",
    "\n",
    "fig.layout.sliders = sliders\n",
    "\n",
    "fig.show()"
   ]
  },
  {
   "cell_type": "code",
   "execution_count": 36,
   "id": "comparative-welding",
   "metadata": {},
   "outputs": [
    {
     "data": {
      "text/plain": [
       "[<matplotlib.lines.Line2D at 0x7fd419a82710>]"
      ]
     },
     "execution_count": 36,
     "metadata": {},
     "output_type": "execute_result"
    },
    {
     "data": {
      "image/png": "[encoded data removed]",
      "text/plain": [
       "<Figure size 432x288 with 1 Axes>"
      ]
     },
     "metadata": {},
     "output_type": "display_data"
    }
   ],
   "source": [
    "ddy = pd.concat([ddy,ddy_new])"
   ]
  },
  {
   "cell_type": "code",
   "execution_count": 46,
   "id": "pretty-duplicate",
   "metadata": {},
   "outputs": [
    {
     "name": "stdout",
     "output_type": "stream",
     "text": [
      "1.5\n",
      "1.4\n",
      "2.1\n",
      "2.3\n",
      "1.3\n",
      "2.2\n",
      "9.6\n",
      "7.2\n",
      "2.0\n",
      "1.2\n"
     ]
    }
   ],
   "source": [
    "K = 1.09; psi = 11.01; dtheta = 0.347; thetas = 0.47; dt = 1.\n",
    "\n",
    "#figsize(16,4)\n",
    "dd['infiltGA'] = np.nan\n",
    "\n",
    "for idx in ddx.loc[ddx.Prec>10.,'Prec'].index:\n",
    "    tst = idx - pd.Timedelta('7D')\n",
    "    tnd = idx\n",
    "    #dd.loc[tst:tnd,'Prec'].plot()\n",
    "\n",
    "    #run green ampt with parameter Ks\n",
    "    a = GreenAmpt(K, dt, dtheta,thetas, psi, list(dd.loc[tst:tnd,'Prec'].values))\n",
    "    F, f, t =a.F_f()  \n",
    "    dd.loc[tst:tnd,'infiltGA'] = np.array(np.diff(F))\n",
    "\n",
    "\n"
   ]
  },
  {
   "cell_type": "code",
   "execution_count": 51,
   "id": "informational-reception",
   "metadata": {},
   "outputs": [
    {
     "data": {
      "text/plain": [
       "<matplotlib.axes._subplots.AxesSubplot at 0x7fd3fe5165c0>"
      ]
     },
     "execution_count": 51,
     "metadata": {},
     "output_type": "execute_result"
    },
    {
     "data": {
      "image/png": "[encoded data removed]",
      "text/plain": [
       "<Figure size 1152x288 with 1 Axes>"
      ]
     },
     "metadata": {},
     "output_type": "display_data"
    }
   ],
   "source": [
    "\n",
    "dd.Prec.plot()\n",
    "dd.infiltGA.plot()\n",
    "(dd.Prec-dd.infiltGA).plot()"
   ]
  },
  {
   "cell_type": "code",
   "execution_count": 50,
   "id": "foster-mechanism",
   "metadata": {},
   "outputs": [
    {
     "data": {
      "text/plain": [
       "<matplotlib.axes._subplots.AxesSubplot at 0x7fd3fe86c748>"
      ]
     },
     "execution_count": 50,
     "metadata": {},
     "output_type": "execute_result"
    },
    {
     "data": {
      "image/png": "[encoded data removed]",
      "text/plain": [
       "<Figure size 1152x288 with 1 Axes>"
      ]
     },
     "metadata": {},
     "output_type": "display_data"
    }
   ],
   "source": []
  },
  {
   "cell_type": "code",
   "execution_count": null,
   "id": "suitable-shepherd",
   "metadata": {},
   "outputs": [],
   "source": []
  }
 ],
 "metadata": {
  "kernelspec": {
   "display_name": "Python 3",
   "language": "python",
   "name": "python3"
  },
  "language_info": {
   "codemirror_mode": {
    "name": "ipython",
    "version": 3
   },
   "file_extension": ".py",
   "mimetype": "text/x-python",
   "name": "python",
   "nbconvert_exporter": "python",
   "pygments_lexer": "ipython3",
   "version": "3.7.2"
  }
 },
 "nbformat": 4,
 "nbformat_minor": 5
}
