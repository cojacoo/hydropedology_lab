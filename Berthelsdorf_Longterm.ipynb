{
 "cells": [
  {
   "cell_type": "markdown",
   "id": "bcb77dcf-21ee-4f03-8a19-8dd3b2e3aee3",
   "metadata": {},
   "source": [
    "## Evapotranspiration and balance calculations at the atmospheric boundary\n",
    "\n",
    "This is an extension of our excercise on evapotranspiration (ET) calculations.\n",
    "\n",
    "(cc) conrad.jackisch@tbt.tu-freiberg.de, May 04, 2022"
   ]
  },
  {
   "cell_type": "code",
   "execution_count": 1,
   "id": "1a55089b-6fb0-48cc-8056-317ef5e9a902",
   "metadata": {},
   "outputs": [
    {
     "name": "stdout",
     "output_type": "stream",
     "text": [
      "Populating the interactive namespace from numpy and matplotlib\n"
     ]
    }
   ],
   "source": [
    "%pylab inline\n",
    "import pandas as pd\n",
    "import seaborn as sns\n",
    "import plotly.express as px\n",
    "\n",
    "import plotly.io as pio\n",
    "pio.renderers.default='iframe' #for windows use 'notebook' instead\n",
    "from plotly.subplots import make_subplots\n",
    "import plotly.graph_objects as go\n",
    "\n",
    "sns.set_style('whitegrid', {'grid.linestyle': u'--'})\n",
    "matplotlib.rc('pdf', fonttype=42)"
   ]
  },
  {
   "cell_type": "code",
   "execution_count": 2,
   "id": "8029e143-bee5-44f2-894d-97bbf40ac917",
   "metadata": {},
   "outputs": [],
   "source": [
    "import dwd\n",
    "import pyeto as pt"
   ]
  },
  {
   "cell_type": "markdown",
   "id": "0f8c5a6c-43d5-4989-93ff-f0eb47b8af41",
   "metadata": {},
   "source": [
    "## DWD Stationen mit unterschiedlicher Datenverfügbarkeit"
   ]
  },
  {
   "cell_type": "code",
   "execution_count": 3,
   "id": "7ab6b04d-3609-4a51-97b2-e9b541216471",
   "metadata": {},
   "outputs": [],
   "source": [
    "# DWD Stations\n",
    "dwd_stats = dwd.dwd_stations()\n",
    "dwd_stats['StatID'] = dwd_stats.index\n",
    "dwd_stats['Active'] = np.log(((pd.Timestamp.now()-dwd_stats['bis_datum']).values).astype(float)/86400000000000.)"
   ]
  },
  {
   "cell_type": "code",
   "execution_count": 4,
   "id": "7f2ae059-604a-423b-b6b9-5b9c0c509067",
   "metadata": {},
   "outputs": [
    {
     "data": {
      "text/html": [
       "<iframe\n",
       "    scrolling=\"no\"\n",
       "    width=\"100%\"\n",
       "    height=\"545px\"\n",
       "    src=\"iframe_figures/figure_4.html\"\n",
       "    frameborder=\"0\"\n",
       "    allowfullscreen\n",
       "></iframe>\n"
      ]
     },
     "metadata": {},
     "output_type": "display_data"
    }
   ],
   "source": [
    "px.set_mapbox_access_token('pk.eyJ1IjoiY29qYWNrIiwiYSI6IkRTNjV1T2MifQ.EWzL4Qk-VvQoaeJBfE6VSA')\n",
    "\n",
    "fig = px.scatter_mapbox(dwd_stats, lat='geoBreite', lon='geoLaenge',  color='Active', hover_name='Stationsname', hover_data=['StatID','von_datum', 'bis_datum'],\n",
    "                  color_continuous_scale=px.colors.sequential.YlOrRd_r, zoom=5)\n",
    "fig.show()"
   ]
  },
  {
   "cell_type": "markdown",
   "id": "8a313e32-a758-45c3-a267-c443d82318be",
   "metadata": {},
   "source": [
    "You can download the DWD data with my toolbox by simply defining the station through its name. You can select to download only recent data `histo = False` or the complete set provided on the DWD server `histo = False`. You can choose daily `rss='1D'` and hourly data `rss='1H'`."
   ]
  },
  {
   "cell_type": "code",
   "execution_count": 5,
   "id": "00014ff2-d144-4c03-937e-093653381e72",
   "metadata": {},
   "outputs": [],
   "source": [
    "# load station weather data\n",
    "# fill missing values at Dresden Klotzsche with data from Dresden Strehlen\n",
    "weather = dwd.resample_DWD('Klotzsche',histo=True,rss='1D')\n",
    "weather2 = dwd.resample_DWD('Strehlen',histo=True,rss='1D')\n",
    "\n",
    "firstitem = True\n",
    "for k in weather.columns:\n",
    "    if firstitem:\n",
    "        weatherx = pd.concat([weather[k],weather2[k]],axis=1).fillna(method='bfill',axis=1).iloc[:,0]\n",
    "        firstitem = False\n",
    "    else:\n",
    "        weatherx = pd.concat([weatherx,pd.concat([weather[k],weather2[k]],axis=1).fillna(method='bfill',axis=1).iloc[:,0]],axis=1)\n",
    "weather = weatherx"
   ]
  },
  {
   "cell_type": "code",
   "execution_count": 6,
   "id": "17718df8-5249-41e2-b319-66044b3c6130",
   "metadata": {},
   "outputs": [
    {
     "data": {
      "text/html": [
       "<div>\n",
       "<style scoped>\n",
       "    .dataframe tbody tr th:only-of-type {\n",
       "        vertical-align: middle;\n",
       "    }\n",
       "\n",
       "    .dataframe tbody tr th {\n",
       "        vertical-align: top;\n",
       "    }\n",
       "\n",
       "    .dataframe thead th {\n",
       "        text-align: right;\n",
       "    }\n",
       "</style>\n",
       "<table border=\"1\" class=\"dataframe\">\n",
       "  <thead>\n",
       "    <tr style=\"text-align: right;\">\n",
       "      <th></th>\n",
       "      <th>T</th>\n",
       "      <th>Tmin</th>\n",
       "      <th>Tmax</th>\n",
       "      <th>Prec</th>\n",
       "      <th>Rad</th>\n",
       "      <th>Rs</th>\n",
       "      <th>RH</th>\n",
       "      <th>u2</th>\n",
       "      <th>u2mx</th>\n",
       "      <th>vap</th>\n",
       "      <th>aP</th>\n",
       "    </tr>\n",
       "  </thead>\n",
       "  <tbody>\n",
       "    <tr>\n",
       "      <th>1934-01-01</th>\n",
       "      <td>0.5</td>\n",
       "      <td>0.2</td>\n",
       "      <td>0.7</td>\n",
       "      <td>0.2</td>\n",
       "      <td>NaN</td>\n",
       "      <td>NaN</td>\n",
       "      <td>97.0</td>\n",
       "      <td>NaN</td>\n",
       "      <td>NaN</td>\n",
       "      <td>6.4</td>\n",
       "      <td>1008.6</td>\n",
       "    </tr>\n",
       "    <tr>\n",
       "      <th>1934-01-02</th>\n",
       "      <td>-0.1</td>\n",
       "      <td>-0.8</td>\n",
       "      <td>0.9</td>\n",
       "      <td>0.1</td>\n",
       "      <td>NaN</td>\n",
       "      <td>NaN</td>\n",
       "      <td>90.0</td>\n",
       "      <td>NaN</td>\n",
       "      <td>NaN</td>\n",
       "      <td>5.9</td>\n",
       "      <td>1006.2</td>\n",
       "    </tr>\n",
       "    <tr>\n",
       "      <th>1934-01-03</th>\n",
       "      <td>-0.7</td>\n",
       "      <td>-1.0</td>\n",
       "      <td>-0.1</td>\n",
       "      <td>0.0</td>\n",
       "      <td>NaN</td>\n",
       "      <td>NaN</td>\n",
       "      <td>85.0</td>\n",
       "      <td>NaN</td>\n",
       "      <td>NaN</td>\n",
       "      <td>5.2</td>\n",
       "      <td>1001.6</td>\n",
       "    </tr>\n",
       "    <tr>\n",
       "      <th>1934-01-04</th>\n",
       "      <td>-1.6</td>\n",
       "      <td>-3.5</td>\n",
       "      <td>-0.3</td>\n",
       "      <td>0.0</td>\n",
       "      <td>NaN</td>\n",
       "      <td>NaN</td>\n",
       "      <td>82.0</td>\n",
       "      <td>NaN</td>\n",
       "      <td>NaN</td>\n",
       "      <td>4.8</td>\n",
       "      <td>1001.4</td>\n",
       "    </tr>\n",
       "    <tr>\n",
       "      <th>1934-01-05</th>\n",
       "      <td>0.9</td>\n",
       "      <td>-3.8</td>\n",
       "      <td>2.8</td>\n",
       "      <td>10.1</td>\n",
       "      <td>NaN</td>\n",
       "      <td>NaN</td>\n",
       "      <td>92.0</td>\n",
       "      <td>NaN</td>\n",
       "      <td>NaN</td>\n",
       "      <td>6.3</td>\n",
       "      <td>996.0</td>\n",
       "    </tr>\n",
       "  </tbody>\n",
       "</table>\n",
       "</div>"
      ],
      "text/plain": [
       "              T  Tmin  Tmax  Prec  Rad  Rs    RH  u2  u2mx  vap      aP\n",
       "1934-01-01  0.5   0.2   0.7   0.2  NaN NaN  97.0 NaN   NaN  6.4  1008.6\n",
       "1934-01-02 -0.1  -0.8   0.9   0.1  NaN NaN  90.0 NaN   NaN  5.9  1006.2\n",
       "1934-01-03 -0.7  -1.0  -0.1   0.0  NaN NaN  85.0 NaN   NaN  5.2  1001.6\n",
       "1934-01-04 -1.6  -3.5  -0.3   0.0  NaN NaN  82.0 NaN   NaN  4.8  1001.4\n",
       "1934-01-05  0.9  -3.8   2.8  10.1  NaN NaN  92.0 NaN   NaN  6.3   996.0"
      ]
     },
     "execution_count": 6,
     "metadata": {},
     "output_type": "execute_result"
    }
   ],
   "source": [
    "weather.head()"
   ]
  },
  {
   "cell_type": "code",
   "execution_count": 7,
   "id": "8518d7d1-11a8-444f-b63a-529f96029d4b",
   "metadata": {},
   "outputs": [],
   "source": [
    "# Saturated vapour pressure based on Tmean\n",
    "weather['vs_Tmean'] = 0.61078 * np.exp(17.1 * weather['T'] / (weather['T'] + 235.)) \n",
    "\n",
    "# Saturated vapour pressure based on Tmin/Tmax\n",
    "vs_Tmax = 0.61078 * np.exp(17.1 * weather['Tmax'] / (weather['Tmax'] + 235.))  \n",
    "vs_Tmin = 0.61078 * np.exp(17.1 * weather['Tmin'] / (weather['Tmin'] + 235.)) \n",
    "weather['vas'] = (vs_Tmax + vs_Tmin) / 2.\n",
    "\n",
    "weather['EToPM'] = pt.fao56_penman_monteith(weather.Rad.values*0.01,weather['T'].values+273.15,weather.u2.values,pt.svp_from_t(weather['T'].values),weather.vas*0.1,pt.delta_svp(weather['T'].values),pt.psy_const(0.1*weather.aP))\n",
    "weather['EToHG'] = pt.hargreaves(weather.Tmin.values,weather.Tmax.values,weather['T'].values,pt.et_rad(52. * np.pi/180.,pt.sol_dec(weather.index.dayofyear.values),pt.sunset_hour_angle(52. * np.pi/180.,pt.sol_dec(weather.index.dayofyear.values)),pt.inv_rel_dist_earth_sun(weather.index.dayofyear.values)))\n",
    "\n",
    "weather['EToSJ'], weather['EToPM2'], weather['EToPT'] = dwd.ET_SzilagyiJozsa(weather)\n"
   ]
  },
  {
   "cell_type": "markdown",
   "id": "9b7eed55-5aaf-477f-8081-f3e69fd75269",
   "metadata": {},
   "source": [
    "https://www.umwelt.sachsen.de/umwelt/infosysteme/hwims/portal/web/wasserstand-pegel-566010\n",
    "\n",
    "| Pegel | Berthelsdorf |\n",
    "| --- | --- |\n",
    "| Zuständig | LfULG - LHWZ |\n",
    "| Gewässer | Freiberger Mulde |\n",
    "| Flussgebiet | Mulde |\n",
    "| Einzugsgebiet | 244,0 km2 |\n",
    "| Pegelnullpunkt b | 376,61 m ü. Bezugshorizont |\n",
    "\n",
    "\n",
    "| Hydrologische | Hauptwerte | a |\n",
    "| --- | --- | --- |\n",
    "| Mittlerer Niedrig-W/Q | 42 cm | 0,655 m3/s |\n",
    "| Mittlerer W/Q | 60 cm | 3,48 m3/s |\n",
    "| Mittlerer Hoch-W/Q | 136 cm | 35,2 m3/s |\n",
    "| Höchster Hoch-W/Q | 385 cm | 360 m3/s |"
   ]
  },
  {
   "cell_type": "code",
   "execution_count": 8,
   "id": "7eaea967-ea3b-47fa-8eb2-276df98fea8f",
   "metadata": {},
   "outputs": [],
   "source": [
    "# load daily drainage at gauge Berthelsdorf\n",
    "bertq = pd.read_csv('BerthelsdorfQ.csv',index_col=0)\n",
    "bertq.index = pd.to_datetime(bertq.index)"
   ]
  },
  {
   "cell_type": "code",
   "execution_count": 25,
   "id": "679de854-fdbd-4182-9585-99e9de2bdae8",
   "metadata": {},
   "outputs": [
    {
     "data": {
      "text/html": [
       "<iframe\n",
       "    scrolling=\"no\"\n",
       "    width=\"100%\"\n",
       "    height=\"545px\"\n",
       "    src=\"iframe_figures/figure_25.html\"\n",
       "    frameborder=\"0\"\n",
       "    allowfullscreen\n",
       "></iframe>\n"
      ]
     },
     "metadata": {},
     "output_type": "display_data"
    }
   ],
   "source": [
    "bertWB = pd.concat([weather.Prec,(bertq.Durchfluss*(86400./2440000.)),weather.EToHG],axis=1)\n",
    "fig = px.line(bertWB.resample('1Y').sum())\n",
    "fig.update_layout({'template': 'none','title': 'Berthelsdorf', 'yaxis_title': '(mm/year)'})"
   ]
  },
  {
   "cell_type": "code",
   "execution_count": 11,
   "id": "e91fa464-bc92-412a-b10d-31af3ae94a68",
   "metadata": {},
   "outputs": [
    {
     "data": {
      "text/plain": [
       "count    1093.000000\n",
       "mean      314.963850\n",
       "std       434.335581\n",
       "min         3.895082\n",
       "25%       101.626230\n",
       "50%       200.065574\n",
       "75%       323.291803\n",
       "max      8604.590164\n",
       "Name: Durchfluss, dtype: float64"
      ]
     },
     "execution_count": 11,
     "metadata": {},
     "output_type": "execute_result"
    }
   ],
   "source": [
    "fig = px.line((bertxq.Durchfluss*86400./244000.).resample('1Y').sum())\n",
    "fig.update_layout({'template': 'none','title': 'Berthelsdorf', 'yaxis_title': 'Q (mm/year)'})"
   ]
  },
  {
   "cell_type": "code",
   "execution_count": 10,
   "id": "236ceb15-91e4-4389-885b-09b960273143",
   "metadata": {},
   "outputs": [
    {
     "data": {
      "text/html": [
       "<iframe\n",
       "    scrolling=\"no\"\n",
       "    width=\"100%\"\n",
       "    height=\"545px\"\n",
       "    src=\"iframe_figures/figure_10.html\"\n",
       "    frameborder=\"0\"\n",
       "    allowfullscreen\n",
       "></iframe>\n"
      ]
     },
     "metadata": {},
     "output_type": "display_data"
    }
   ],
   "source": [
    "# plot a variable\n",
    "fig = px.line(weather[['EToHG', 'EToPM', 'EToSJ', 'EToPM2', 'EToPT']])\n",
    "fig.update_layout({'template': 'none','title': 'Dresden Klotzsche', 'yaxis_title': 'Prec (mm/day)'})"
   ]
  },
  {
   "cell_type": "code",
   "execution_count": null,
   "id": "b3c2c339-1b07-40d5-8376-efe9a48e7acd",
   "metadata": {},
   "outputs": [],
   "source": []
  }
 ],
 "metadata": {
  "kernelspec": {
   "display_name": "Python 3",
   "language": "python",
   "name": "python3"
  },
  "language_info": {
   "codemirror_mode": {
    "name": "ipython",
    "version": 3
   },
   "file_extension": ".py",
   "mimetype": "text/x-python",
   "name": "python",
   "nbconvert_exporter": "python",
   "pygments_lexer": "ipython3",
   "version": "3.7.2"
  }
 },
 "nbformat": 4,
 "nbformat_minor": 5
}
